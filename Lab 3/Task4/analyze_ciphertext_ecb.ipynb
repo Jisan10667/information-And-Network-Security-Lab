{
 "cells": [
  {
   "cell_type": "code",
   "execution_count": 1,
   "metadata": {},
   "outputs": [
    {
     "name": "stdout",
     "output_type": "stream",
     "text": [
      "Plaintext length: 517 bytes\n",
      "Ciphertext length: 528 bytes\n",
      "Padding added implicitly.\n"
     ]
    }
   ],
   "source": [
    "import os\n",
    "\n",
    "# Get plaintext length\n",
    "plaintext_length = os.path.getsize('plaintext.txt')\n",
    "print(\"Plaintext length:\", plaintext_length, \"bytes\")\n",
    "\n",
    "# Get ciphertext length\n",
    "ciphertext_length = os.path.getsize('ciphertext_ecb.bin')\n",
    "print(\"Ciphertext length:\", ciphertext_length, \"bytes\")\n",
    "\n",
    "# Compare lengths\n",
    "if plaintext_length == ciphertext_length:\n",
    "    print(\"No padding added (or padding explicitly disabled).\")\n",
    "else:\n",
    "    print(\"Padding added implicitly.\")\n"
   ]
  }
 ],
 "metadata": {
  "kernelspec": {
   "display_name": "Python 3",
   "language": "python",
   "name": "python3"
  },
  "language_info": {
   "codemirror_mode": {
    "name": "ipython",
    "version": 3
   },
   "file_extension": ".py",
   "mimetype": "text/x-python",
   "name": "python",
   "nbconvert_exporter": "python",
   "pygments_lexer": "ipython3",
   "version": "3.10.11"
  }
 },
 "nbformat": 4,
 "nbformat_minor": 2
}
