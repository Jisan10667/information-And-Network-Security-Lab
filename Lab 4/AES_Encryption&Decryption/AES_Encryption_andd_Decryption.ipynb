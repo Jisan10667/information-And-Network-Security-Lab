{
  "nbformat": 4,
  "nbformat_minor": 0,
  "metadata": {
    "colab": {
      "provenance": []
    },
    "kernelspec": {
      "name": "python3",
      "display_name": "Python 3"
    },
    "language_info": {
      "name": "python"
    }
  },
  "cells": [
    {
      "cell_type": "markdown",
      "source": [
        "Help :https://cryptobook.nakov.com/symmetric-key-ciphers/aes-encrypt-decrypt-examples"
      ],
      "metadata": {
        "id": "Z5QbDpmxQrdC"
      }
    },
    {
      "cell_type": "markdown",
      "source": [
        "## Read the plaintext from a file"
      ],
      "metadata": {
        "id": "CIkdcIJpPK33"
      }
    },
    {
      "cell_type": "code",
      "execution_count": 1,
      "metadata": {
        "colab": {
          "base_uri": "https://localhost:8080/"
        },
        "id": "i_48Wmu3OfSD",
        "outputId": "693ffff7-7221-4ed0-ffec-9041fb612802"
      },
      "outputs": [
        {
          "output_type": "stream",
          "name": "stdout",
          "text": [
            "Plaintext_length: 472\n",
            "b'Vasya has found a strange device. On the front panel of a device there are: a red button, a blue button and a display showing some positive integer. After clicking the red button, device multiplies the displayed number by two. After clicking the blue button, device subtracts one from the number on the display. If at some point the number stops being positive, the device breaks down. The display can show arbitrarily large numbers. Initially, the display shows number n.'\n"
          ]
        }
      ],
      "source": [
        "filename = \"text.txt\"\n",
        "with open(filename, 'rb') as file:\n",
        "    plaintext = file.read()\n",
        "    plaintext_length = len(plaintext)\n",
        "print(\"Plaintext_length:\", plaintext_length)\n",
        "print(plaintext)"
      ]
    },
    {
      "cell_type": "markdown",
      "source": [
        " ## Install PyCryptodome"
      ],
      "metadata": {
        "id": "dQWAXfP6PTCQ"
      }
    },
    {
      "cell_type": "code",
      "source": [
        "!pip install pycryptodome"
      ],
      "metadata": {
        "colab": {
          "base_uri": "https://localhost:8080/"
        },
        "id": "4UwTnnMgOvkA",
        "outputId": "3bd161e2-b222-4403-92a6-09ca1746775a"
      },
      "execution_count": 2,
      "outputs": [
        {
          "output_type": "stream",
          "name": "stdout",
          "text": [
            "Collecting pycryptodome\n",
            "  Downloading pycryptodome-3.20.0-cp35-abi3-manylinux_2_17_x86_64.manylinux2014_x86_64.whl (2.1 MB)\n",
            "\u001b[2K     \u001b[90m━━━━━━━━━━━━━━━━━━━━━━━━━━━━━━━━━━━━━━━━\u001b[0m \u001b[32m2.1/2.1 MB\u001b[0m \u001b[31m9.8 MB/s\u001b[0m eta \u001b[36m0:00:00\u001b[0m\n",
            "\u001b[?25hInstalling collected packages: pycryptodome\n",
            "Successfully installed pycryptodome-3.20.0\n"
          ]
        }
      ]
    },
    {
      "cell_type": "markdown",
      "source": [
        "## Import necessary libraries"
      ],
      "metadata": {
        "id": "hHcsdvUKPbit"
      }
    },
    {
      "cell_type": "code",
      "source": [
        "from Crypto.Random import get_random_bytes\n",
        "from Crypto.Cipher import AES"
      ],
      "metadata": {
        "id": "Y3rnb3VcOxek"
      },
      "execution_count": 3,
      "outputs": []
    },
    {
      "cell_type": "markdown",
      "source": [
        "## Function to generate AES key"
      ],
      "metadata": {
        "id": "66D9QwuhPfa5"
      }
    },
    {
      "cell_type": "code",
      "source": [
        "def generate_aes_key(bits):\n",
        "    return get_random_bytes(bits // 8)"
      ],
      "metadata": {
        "id": "lZWfNDj8O0q_"
      },
      "execution_count": 4,
      "outputs": []
    },
    {
      "cell_type": "markdown",
      "source": [
        "## Function to pad plaintext to be a multiple of block size"
      ],
      "metadata": {
        "id": "LMn1JPqKPkbz"
      }
    },
    {
      "cell_type": "code",
      "source": [
        "def pad(plaintext, block_size):\n",
        "    padding_length = block_size - len(plaintext) % block_size\n",
        "    padding = bytes([padding_length] * padding_length)\n",
        "    return plaintext + padding"
      ],
      "metadata": {
        "id": "WxgSkSNbO2LS"
      },
      "execution_count": 5,
      "outputs": []
    },
    {
      "cell_type": "markdown",
      "source": [
        "## Function to unpad plaintext"
      ],
      "metadata": {
        "id": "pmIs7Af8PpI1"
      }
    },
    {
      "cell_type": "code",
      "source": [
        "def unpad(padded_plaintext):\n",
        "    padding_length = padded_plaintext[-1]\n",
        "    return padded_plaintext[:-padding_length]"
      ],
      "metadata": {
        "id": "1L9l8U9-O4P6"
      },
      "execution_count": 6,
      "outputs": []
    },
    {
      "cell_type": "markdown",
      "source": [
        " ## Generate keys for 128-bit and 256-bit AES"
      ],
      "metadata": {
        "id": "ISAjiic2PsTb"
      }
    },
    {
      "cell_type": "code",
      "source": [
        "key_128 = generate_aes_key(128)\n",
        "key_256 = generate_aes_key(256)\n",
        "print(\"128-bit Key:\", key_128)\n",
        "print(\"256-bit Key:\", key_256)"
      ],
      "metadata": {
        "colab": {
          "base_uri": "https://localhost:8080/"
        },
        "id": "3wYpqJkEO6C8",
        "outputId": "586bf867-2b0d-43b1-ba5d-a68b4656efb4"
      },
      "execution_count": 7,
      "outputs": [
        {
          "output_type": "stream",
          "name": "stdout",
          "text": [
            "128-bit Key: b'\\xe8\\xf7\\x91\\x14;\\xe9\\x89\\x07\\x99\\x83\\x8b\\x8d\\xd3\\xc3c\\xe4'\n",
            "256-bit Key: b'\\xdeH\\xe3\\xcb\\x13\\xca\"\\xbf+C\\xddH\\xd2*\\xd0\\x183*\\xa1\"\\x9c\\xc1\\x8f\\xf9\\x81tF\\x16\\x8bd\\x7f\\xcb'\n"
          ]
        }
      ]
    },
    {
      "cell_type": "markdown",
      "source": [
        "## Encrypt and decrypt using AES in ECB and CFB modes"
      ],
      "metadata": {
        "id": "hUROE0O5PwVF"
      }
    },
    {
      "cell_type": "code",
      "source": [
        "def aes_encrypt_decrypt(plaintext, key, mode):\n",
        "    if mode == AES.MODE_ECB:\n",
        "        cipher = AES.new(key, mode)\n",
        "        padded_plaintext = pad(plaintext, AES.block_size)\n",
        "        aes_cipher = cipher.encrypt(padded_plaintext)\n",
        "        decrypted_data = unpad(cipher.decrypt(aes_cipher))\n",
        "    elif mode == AES.MODE_CFB:\n",
        "        iv = get_random_bytes(AES.block_size)\n",
        "        cipher = AES.new(key, mode, iv)\n",
        "        aes_cipher = iv + cipher.encrypt(plaintext)\n",
        "        cipher = AES.new(key, mode, aes_cipher[:AES.block_size])\n",
        "        decrypted_data = cipher.decrypt(aes_cipher[AES.block_size:])\n",
        "    return aes_cipher, decrypted_data"
      ],
      "metadata": {
        "id": "VtuwLEdwO72T"
      },
      "execution_count": 8,
      "outputs": []
    },
    {
      "cell_type": "markdown",
      "source": [
        "## Encrypt and decrypt with 128-bit key and ECB mode"
      ],
      "metadata": {
        "id": "hxzcIJekP0At"
      }
    },
    {
      "cell_type": "code",
      "source": [
        "cipher_128_ecb, decrypted_128_ecb = aes_encrypt_decrypt(plaintext, key_128, AES.MODE_ECB)\n",
        "print(\"128-bit ECB Encrypted:\", cipher_128_ecb)\n",
        "print(\"128-bit ECB Decrypted:\", decrypted_128_ecb)"
      ],
      "metadata": {
        "colab": {
          "base_uri": "https://localhost:8080/"
        },
        "id": "voSdQkuuO-Lm",
        "outputId": "70cc66af-e56b-48ae-87c7-fc5cc1bce79d"
      },
      "execution_count": 9,
      "outputs": [
        {
          "output_type": "stream",
          "name": "stdout",
          "text": [
            "128-bit ECB Encrypted: b'b\\xf0\\x84\\x9f0\\xd8\\x8b\\x98\\x81\\xd8\\x03O\\xf2H\\x1b\\xcb\\xdb\\x86\\x9a4P\\x1a]\\xbcpF\\x8b\\xb5\\x97\\xa6\\xcd\\x14\\xd6\\xbe\\xcb\\xf1\\xb5\\x8e\\x1c\\xe2\\xdc2\\x8c\\xc2r\\x89\\x96\\xe5\\x16V\\x12\\x1b\\x99\\xa3\\x0e\\x8e\\x85\\xcc\\x83\\xfc\\x82COr\\xa2\\xb6\\t\\xbe\\xa6D\\xdb\\xd6\\xe1\\xf0\\xc5y`\\t\\x1b\\xd4\\xf4\\xf0V\\x01\\x10\\xff/IM\\xc4\\x88R\\xd0w\\xbb\\\\\\xc8)\\xc8\\x13EwD\\xf3\\xef\\x9eA\\xe5b=z\\x17\\xc8LD>P\\xa7\\x8dWn\\x1e2\\xa2\\x1f?\\xa2\\x9f\\x97\\x9e\\xe5\\x87\\x1a\\xe2m\\x98\"\\xbc\\xab\\\\\\xdc\\xbac\\x03\\x97j\\xb2\\xa4\\xcexs\\x86\\xa2e\\xacmL*\\xd3\\xb0\\\\\\x0f\\xa0\\x88k\\xa5\\x0e\\xb5\\xb87\\x87\\x1f*\\xb0\\x88i\\xbd\\xce\\xcd\\x91\\x8a\\xe2\\xb7[y{fvx}\\x91\\x18\\xf3Y\\xb8lS}\\xd9\\xbc\\xb8H\\x17/v=\\xa0\\xad\\xc5M\\xac\\x1d\\x96y\\xa36\\xbbIlw\\x05\\xb5<\\xc1\\xf9S#y6\\x98\\xac\\xc4:\\x9a\\xff\\xec\\x04\\x15\\x00:l7\\x90VC\\xaa_\\xcf~\\x06\\x9a\\xb0\\xe1\\\\\\x9d\\xc3\\xa8[\\xdf\\xabtGU!\\xbc\\x96\\x12\\xdc\\xc3u\\xc9!(\\xf3vo\\xa5\\xa8\\x0ch\\xda\\xf6\\xcb\\x89\\x85 \\xeeiDS]\\x90\\x02^\\xf2\\xda[\\x1e^\\xe5\\x85\\xfeE.\\x05]\\xf2\\xb2\\x88\\x84P\\xe9\\xd7H0rq\\t\\x8cn\\xd7\\x8d\\xfb9~K\\xf2/\\x0f\\xab?~\\xc3;\\x85\\xcf\\xbc\\x1d\\xd4\\xde\\xca\\xc1\\x1c9\\xb1\\xdfo\\xf0\\xad\\x91d\\x1f[\\x17X\\xe9\\xc0Tc\\xe6\\xf2w?1U)n\\xa2y\\xf5\\x19 \"\\xdb:t\\x8e&h\\xd6\\xb6e:\\xe9\\xce\\x1f\\xfd*G\\x1c=-\\x95\\x82\\x85\\x87\\xf63\\x05z\\x84\\x12,\\xe7\\x9d50\\xa0\\x84\\xea*6\\xf5xPX\\x9f\\xf9V\\x10\\x99c\\xb7\\x9a\\xaa\\xa6\\xc7\\xd0:\\x87\\xf3.Cs\\xacR\\xc3\\n\\x95\\xec\\x82\\x91\\x7f\\xcaf\\x85\\xb6!\\x8c\\x11\\xe7#wq\\xe01_\\xf2\\x06\\x9c\\x16$\\rjM\\x0b\\x1c\\xc8\\xcdKrW\\xe5\\x9b\\xa45\\x02\\x1dB$'\n",
            "128-bit ECB Decrypted: b'Vasya has found a strange device. On the front panel of a device there are: a red button, a blue button and a display showing some positive integer. After clicking the red button, device multiplies the displayed number by two. After clicking the blue button, device subtracts one from the number on the display. If at some point the number stops being positive, the device breaks down. The display can show arbitrarily large numbers. Initially, the display shows number n.'\n"
          ]
        }
      ]
    },
    {
      "cell_type": "markdown",
      "source": [
        "## Encrypt and decrypt with 128-bit key and CFB mode"
      ],
      "metadata": {
        "id": "bXAk1bIdP2hZ"
      }
    },
    {
      "cell_type": "code",
      "source": [
        "cipher_128_cfb, decrypted_128_cfb = aes_encrypt_decrypt(plaintext, key_128, AES.MODE_CFB)\n",
        "print(\"128-bit CFB Encrypted:\", cipher_128_cfb)\n",
        "print(\"128-bit CFB Decrypted:\", decrypted_128_cfb)\n"
      ],
      "metadata": {
        "colab": {
          "base_uri": "https://localhost:8080/"
        },
        "id": "GoS-qRYoPAAV",
        "outputId": "fa8576a1-b3f2-4695-867f-dbb16bb6cf66"
      },
      "execution_count": 10,
      "outputs": [
        {
          "output_type": "stream",
          "name": "stdout",
          "text": [
            "128-bit CFB Encrypted: b'\\xa5.u\\x85<\\xbc_\\x92\\x82\\x13\\xc3\\xc3\\x8c\\x87z\\xce\\x17]\\x9a{(nK\\x1e\\x08\\xe4I\\x15\\xa3\\xa9\\x8ed=\\xe3\\x975Z\\xa6\\xd2\\xb5s\\xc2Y_\\x990\\xf1\\x9f\\x05\\x90\\x90:\\x1a+=\\x85\\xd1$\\xb3b\\x19\\xcf\\xb0N\\x85\\xe9v:L\\xc1!Us\\xa6n\\x1a\\x83\\xbc\\x82\\xd9,\\xcam\\xb7\\xe6\\xb9\\x13-n\\x1b\\x15\\x97\\xeay\\xd6\\xca\\x0b\\xe9U;\\xc6\\xf6\\x96\\xd3\\xb0\\x8b\\xc6\\x0bl\\xa0\\xea\\x14S\\xcd\\xca\\xfb\\xe0}\\xb9$\\x90{\\xbfg\\xb8\\xa1\\xa5D\\x8e\\t\\xf47\\xee\\x9d\\xab\\x04?\\xe8\\x80\\x82]\\x9f\\x01\\xb9\\xe4{\\xed@\\x8c\\x08\\xf1\\x9b\\xffwC\\xdb\\x00j\\xd5\\xabp\\xdfr\\xf7s\\x8c\\x1d\\xc3\\xb3\\x90\\x8a\\x89^<\\\\A\\x0c7\\x15\\xb7\\xb8\\xc3\\x13\\xb9\\xfc\\xe3 O\\x12\\x15\\xe0\\x1fd\\x8d\\x15\\xfd-br\\xb1\\xae\\r\\xe6\\xf7|\\x8cUb\\x10;.\\xda\\xdd\\x85\\xcf\\xe2\\x1fh\\xd0\\xcb\\x16\\xf2z\\xd8#\\r\\xa5\\x08t\\xcc\\x889\\xa7\\x06\\xc4\\xab\\xe1\\xd5\\xbd\\xbb\\xd2h\\xed4_{|<\\xd80\\x84\\xef\\n\\xfe\\xc5\\xd3E\\xd0\\x83\\xc3o\\xcf\\xb9p\"\\xf9\\xbe8\\x18\\xce\\xbf\\xe4\\x0c\\x0e\\x93\\x9f\\x0c\\xf4q\\xa8\\xedZTF\\x80,\\xdb\\xf2\\xdf8\\xc0\\x19\\x1c;\\xfd\\xa4\\xd6\\xd5D\\xabN@\\xafu\\n\\xa9\\xc0)8\\xed\\xe9\\xfd\\xe5{\\xd9\\xd7~#5ew\\xf4\\x805.\\x8a\\xb0\\xfa\\x86\\xf2\\x99V0Y\\xa7?\\x96\\xcd\\xb10\\t\\xe5\\xcc \\xf5N(\\xb62\\x08D\\xbd\\x18 \\xd0\\x03\\x88\\xca&S\\xc9l\\xfa\\x0fv\\x93Be\\x81\\xe7\\xaa\\xc7\\xcc^>N\\xb76\\x03\\x16b\\x9d\\x86V9x\\xa6\\xeeO\\xf65}\\x84y7\\xa9T\\xfe\\xf8?\\xbb\\xe2S*pV\\xdfg\\xdb\\xc7\\xc5#\\xf1\\x16\\xbd\\xd3C\\xce !d\\x83\\x8d\\x99\\x10\\x80\\x01\\x93!8\\xb6\\xaf\\xd2P\\xe7\\xc7Pi \\xa9+\\xae\\x01\\xb9\\xc1<\\x9a\\xfe50\\x1c\\x92\\x9d\\x05\\xbeq>\"\\xa3\\xe3kN\\x9cSp\\xc0\\xfb/A\\x8d\\xa0T\\xb7\\xf5v\\x1b\\x86\\xc4\\x98\\x8am\\xa4\\x18\\x87B\\x11L\\x1f'\n",
            "128-bit CFB Decrypted: b'Vasya has found a strange device. On the front panel of a device there are: a red button, a blue button and a display showing some positive integer. After clicking the red button, device multiplies the displayed number by two. After clicking the blue button, device subtracts one from the number on the display. If at some point the number stops being positive, the device breaks down. The display can show arbitrarily large numbers. Initially, the display shows number n.'\n"
          ]
        }
      ]
    },
    {
      "cell_type": "markdown",
      "source": [
        "## Encrypt and decrypt with 256-bit key and ECB mode"
      ],
      "metadata": {
        "id": "pNxTOraDP7I9"
      }
    },
    {
      "cell_type": "markdown",
      "source": [],
      "metadata": {
        "id": "M9tOJTJFP88P"
      }
    },
    {
      "cell_type": "code",
      "source": [
        "cipher_256_ecb, decrypted_256_ecb = aes_encrypt_decrypt(plaintext, key_256, AES.MODE_ECB)\n",
        "print(\"256-bit ECB Encrypted:\", cipher_256_ecb)\n",
        "print(\"256-bit ECB Decrypted:\", decrypted_256_ecb)\n"
      ],
      "metadata": {
        "colab": {
          "base_uri": "https://localhost:8080/"
        },
        "id": "UvPQpLRWPB9c",
        "outputId": "36a8490d-3462-4b17-9fe7-6e0f453a9484"
      },
      "execution_count": 11,
      "outputs": [
        {
          "output_type": "stream",
          "name": "stdout",
          "text": [
            "256-bit ECB Encrypted: b'\\xa46/\\x9f\\xc5\\xb8\\xdaq\\xc4\\xb0\\xe3\\xce\\x83\\xa5\\xeb\\x930\\xd23&A\\xb7\\t\\xca\\'0J\\x97\\xed\\xe5\\x90Z\\x85\\xb3\\x8d\\x94jT\\x93\\xf1\\xb7\\xe2b\\x16?9!p\\x1f?\"\\xeb\\xbe\\xdcr\\x86\\xe6\\x0b\\xcaCV\\xf3C\\xd4\\x1a\\xbd\\x1e\\x7f#h!0C\\xca:\\x04\\xd2\\xf1\\xb9?\\x05\\xed1\\xd4\\xfc^Tcs\\xec\\x05\\x0fP\\xe7\\xfa\\x8cr\\xb9o\\x7fma\\xefTN\\x9f\"\\xa8wjdo\\xde\\x12\\xb1\\xf7\\xf7\\xad\\xb7\\xca\\xe1D\\x02\\xb4\\x84\\xf1y\\xf5^\\x83e[\\xd8\\xe9\\x0f5~\\x9d\\xb5\\xd8@!M>\\x96?\\x1c7\\xd6\\xfa\\x03cnqhJo0\\xdf\\x82\\xc8q\\xa1\\xf1>\\x92\\xa0\\x1d!\\x1d\"\\xb3\\x8dhe\\xb4\\x93v@\\xe7\\xe6\\xb9\\x84\\xa3\\xfa\\xe6\\xc9\\x02[I\\x1bP_?\\xeaH\\xcc\\x1b\\xc4\\x13\\x99\\x9a\\xbc\\xb8\\x0f\\xd6\\xe1\\xe9\\xdcN\\x9e\\xad\\xe6\\x86\\x923\\x9dgc\\xae\\x1fT\\x13\\x82\\xf6F\\x9a5\\xaa\\xb8\\x18W\\xa9\\x0f\\xe1$\\x0bx\\xf3\\x8d\\xf5d\\x0b\\xe9p\\x95\\xe4B\\x8a\\xb0\\xb7\\x1eX\\xf6Hs\\x9c\\xc6\\xd6\\x9c9s\\xa4\\xd9P\\xb0\\xcfS\\xed\\x83\\x0f3\\xa7?V\\x1e\\xda\\xf3\\xc9\\xe6\\x9d\\xee\\xe2T\\xa9\\xcd\\x9fG4IqN\\x18\\xd6\\xa1\\xf5\\xcaFS\\x12\\x9f\\xb3\\xc2\\x8e\\x1d.\\xd4\\xe8\\x951b;\\x8e\\xaa\\x91\\x82o\\xf4\\x13\\x7f\\x86\\xbd\\xe88\\xb1:\\x04\\xdc\\x06\\xcf\\xc1\\x83\\x084r\\xb9\\xeb\\xc5/C9\\x89<@v\\xf8|\\x19h\\x9c\\x80H\\xda@D\\x98\\x05OW\\xd0\\xa7z\\x196\\x062{\\xa2\\x99\\xf8\\x07\\x17i6h\\xa7\\xaa\\x8b\\xc4]\\xd6\\xbb\\x07{-li\\xdc7\\xe4[\\x9c\\x96hI\\xc2p\\xackY\\xe4\\x87\\x93\\xd1.\\x8ap\\x92V;l\\x85Q\\x1d\\xd4\\x986\\x11\\x93#\\x1cA\\xb8\\xd3/S\\xf0P\\xfe\\x86@\\xb7-\"J`\\xa1\\x82\\x1ftJ\\xbb\\xa2Lu\\xf2\\xeb\\xbcT\\x80\\xaf\\xa0~A\\x9d\\xc7)=\\xbc\\x14gj\\xcc\\x06\\x01\\xf6\\x11/\\xdbi\\x17\\xe6\\xee\\x903\"\\x9f\\xf8\\xc0i'\n",
            "256-bit ECB Decrypted: b'Vasya has found a strange device. On the front panel of a device there are: a red button, a blue button and a display showing some positive integer. After clicking the red button, device multiplies the displayed number by two. After clicking the blue button, device subtracts one from the number on the display. If at some point the number stops being positive, the device breaks down. The display can show arbitrarily large numbers. Initially, the display shows number n.'\n"
          ]
        }
      ]
    },
    {
      "cell_type": "markdown",
      "source": [
        "## Encrypt and decrypt with 256-bit key and CFB mode"
      ],
      "metadata": {
        "id": "QEvO8_uaQC_g"
      }
    },
    {
      "cell_type": "code",
      "source": [
        "cipher_256_cfb, decrypted_256_cfb = aes_encrypt_decrypt(plaintext, key_256, AES.MODE_CFB)\n",
        "print(\"256-bit CFB Encrypted:\", cipher_256_cfb)\n",
        "print(\"256-bit CFB Decrypted:\", decrypted_256_cfb)"
      ],
      "metadata": {
        "colab": {
          "base_uri": "https://localhost:8080/"
        },
        "id": "kSKVvO5gPEvp",
        "outputId": "515068d5-7ed5-4bf2-8410-f2e907ded80a"
      },
      "execution_count": 12,
      "outputs": [
        {
          "output_type": "stream",
          "name": "stdout",
          "text": [
            "256-bit CFB Encrypted: b'jCw\\xa5\\xd5\\xc7\\xd1\\xfe\\xbd\\xe3\\x81\\xbd\\xca\\xe9w\\xcd~SL(\\x1c\\xf6\\x8c\\xd5\\xc7g\\xa1\\x15\\x08\\x96\\\\o\\xe0\\x11\\xd4\\x15\\xd0\\x86\\xc0\\xd7d\\xd4M\\x1cU\\x03k\\x15\\x0c\\xb2\\xd3\\xd8%t\\x02jH\\x84x\\x9b \\xe0#\\xad\\x7f\\xa4\\xe8\\xdd\\r,!\\xbe7C\\xa7\\xdb\\xba\\x98iF\\xd8&\\x17&\\xafF\\xe3\\xbc\\xcehU\\xe9L\\x89M\\x81=9o\\xfa\\xde3_\\x9b\\xa5,`\\xa5d\\xa7\\x8f\\n\\xb4s\\xc3y\\x90\\x84\\xb4Z\\xc0\\xd3\\x98\\xdd\\x08\\xe2\\xea\\xbb\\xe9H\\xd8\\xf2\\xb3$\\xea\\xfbnJN~\\x8c\\xc1\\xff\\xd71\\x9d\\xe8d\\xab\\x88\\x7f\\xd5\\xe4]\\x10l\\x18A\\xd7\\x0bSp\\xb9\\xf3\"lo\\xecoS\\xf4\\x13G\\xf1\\xeb\\xc3UZ\\x98\\xf0\\xd5\\r\\xaa\\xab\\x83\\xc2\\rm\\xf1\\xa9\\xc1\\x9c\\xb9:\\xa1\\xa6GL\\xa1\\x8f\\x0b\\x9av\\xea\\x12\\xee^\\xe9C\\xbc\\xd5\\xbf\\x1e\\x81\\x9d\\x16\\xda\\xe0\\x16\\x86\\x1c@\\xd7r\\x8e\\'\\xf9\\xda\\x14\\xb9=\\xdee\\xb8\\xc0E\\xd4\\t\\x9c\\x00\\xb39\\xd4\\xd1\\xda\\xe6\\'\\xc9;\\xdaM\\xe49/\\xd1\\x03Z-\\x9fr!+\\xc5]P\\x0f\\x82\\x87>\\x96\\x98\\x80\\x9b\\\\a0\\xbcK\\x85*\\x1f\\xe6\\xc5\\tv\\x90\\xa1\\x7fT%\\xc7\\xdfd\\xf1Q\\xe5\\x88\\xa7Fm}\\x19-LJ\\x7f\\xb9\\xd9\\x9c\\xfb\\xa6\\xc9\\xd4\\xe0.\\xd0m\\xf4\\x11\\xdf\\xceU3\\xa4\\xf6\\xd7^Ex\\xd3\\xcff\\x95\\xc1\\\\s\\x9e\\xbc\\xa6%$}\\xf4\\x88\\xb1D\\x8f}\\xe1a\\xb9\\\\\\x08\\nN<\\xd5\\x0c\\xf8`\\xf7CI\\\\\\xb1\\x83\\x94X\\xa5\\xf9\\xf9\\xc1T\\x17\\xd0K\\xcb\\x04\\x005C\\x16\\x1d&\\xd7\\xb9CU\\x0e\\xca@\\x828\\xc5)\\xd3\\xd8\\xf7\\xf1\\xa0q\\xf05=fU\\xd0\\xb7IV\\x16C\\x1f\\xc6\\x93X{;/\\xe5\\xa0]\\r\\xf1\\x0e\\xb2\\xc6xr\\x18\\xf5\\x92y\\xd2M\\xcfh\\x9e\\xafYD4\\xcd\\xc2d}\\xb6Y\\x0b\\x14\\xa9\\xf3\\xd0\\xbd}\\x1d\\xcfx\\x02P\\xe0\\xc8\\xbc\\x85\\xbb\\xe7]\\x17j\\x1e\\xc4Ao\\x05\\xbf\\x8a\\x01\\xd0j\\x8c\\xe4\\xf7\\x85\\xda`O\\xe5\\xec'\n",
            "256-bit CFB Decrypted: b'Vasya has found a strange device. On the front panel of a device there are: a red button, a blue button and a display showing some positive integer. After clicking the red button, device multiplies the displayed number by two. After clicking the blue button, device subtracts one from the number on the display. If at some point the number stops being positive, the device breaks down. The display can show arbitrarily large numbers. Initially, the display shows number n.'\n"
          ]
        }
      ]
    }
  ]
}