{
 "cells": [
  {
   "cell_type": "markdown",
   "metadata": {},
   "source": [
    "# RSA Signature"
   ]
  },
  {
   "cell_type": "markdown",
   "metadata": {},
   "source": [
    "## Resources\n",
    "\n",
    "https://cryptobook.nakov.com/digital-signatures/rsa-sign-verify-examples"
   ]
  },
  {
   "cell_type": "code",
   "execution_count": 1,
   "metadata": {},
   "outputs": [
    {
     "name": "stdout",
     "output_type": "stream",
     "text": [
      "Requirement already satisfied: pycryptodome in c:\\programdata\\anaconda3\\lib\\site-packages (3.18.0)\n"
     ]
    }
   ],
   "source": [
    "#!pip install pycryptodome"
   ]
  },
  {
   "cell_type": "markdown",
   "metadata": {},
   "source": [
    "# Generating Key"
   ]
  },
  {
   "cell_type": "code",
   "execution_count": 4,
   "metadata": {},
   "outputs": [
    {
     "data": {
      "text/plain": [
       "RsaKey(n=123011700842042299078823854090567103020632460741814809191312862073748458824673946263557577262415536392233408326910580514472826879172282119829028470518280717422108138999215150775613190258250447569176573658098235775557442990722357760429986660373233947165864676610922158010467279181700178432865484647784309916567, e=65537, d=18132574514923625284205530348382188667940550940633565225638614890267283923215323525323069031899008030840148940935954698263038345762604809780861643643161125095692511842763542545136972409183759829439029101026383846630066384384263139459919758121494600800987919926662707994775430388020272528922027109314149412833, p=10085065585257634455790856149313471597321536575833347882071974351929968685540741336625304680383377927499423787858725639944298650759827919017448252482593441, q=12197412084445043839979256108200026915260636669819578145416579865489262398127169136429353694948530513098906124631684434251570624119632019300835148885439287, u=4578431223114616797954961168513497476046349963290907170844731411285340021276341785606770503255738526442380592120684246430196712346012136619432256627551973)"
      ]
     },
     "execution_count": 4,
     "metadata": {},
     "output_type": "execute_result"
    }
   ],
   "source": [
    "from Crypto.PublicKey import RSA\n",
    "\n",
    "key = RSA.generate(1024)\n",
    "key"
   ]
  },
  {
   "cell_type": "code",
   "execution_count": 5,
   "metadata": {},
   "outputs": [
    {
     "data": {
      "text/plain": [
       "123011700842042299078823854090567103020632460741814809191312862073748458824673946263557577262415536392233408326910580514472826879172282119829028470518280717422108138999215150775613190258250447569176573658098235775557442990722357760429986660373233947165864676610922158010467279181700178432865484647784309916567"
      ]
     },
     "execution_count": 5,
     "metadata": {},
     "output_type": "execute_result"
    }
   ],
   "source": [
    "key.n"
   ]
  },
  {
   "cell_type": "code",
   "execution_count": 6,
   "metadata": {},
   "outputs": [
    {
     "data": {
      "text/plain": [
       "65537"
      ]
     },
     "execution_count": 6,
     "metadata": {},
     "output_type": "execute_result"
    }
   ],
   "source": [
    "key.e"
   ]
  },
  {
   "cell_type": "code",
   "execution_count": 7,
   "metadata": {},
   "outputs": [
    {
     "data": {
      "text/plain": [
       "18132574514923625284205530348382188667940550940633565225638614890267283923215323525323069031899008030840148940935954698263038345762604809780861643643161125095692511842763542545136972409183759829439029101026383846630066384384263139459919758121494600800987919926662707994775430388020272528922027109314149412833"
      ]
     },
     "execution_count": 7,
     "metadata": {},
     "output_type": "execute_result"
    }
   ],
   "source": [
    "key.d"
   ]
  },
  {
   "cell_type": "markdown",
   "metadata": {},
   "source": [
    "# Hashing of Message"
   ]
  },
  {
   "cell_type": "code",
   "execution_count": 11,
   "metadata": {},
   "outputs": [
    {
     "data": {
      "text/plain": [
       "5361455567331179339262170059746146204584926032134330991440127006957728031361751345376473848474779321915702763145802804363682584032022255287376945230340573"
      ]
     },
     "execution_count": 11,
     "metadata": {},
     "output_type": "execute_result"
    }
   ],
   "source": [
    "from hashlib import sha512\n",
    "\n",
    "msg = b'A simple message for signature'\n",
    "hash = int.from_bytes(sha512(msg).digest(), byteorder='big')\n",
    "hash"
   ]
  },
  {
   "cell_type": "markdown",
   "metadata": {},
   "source": [
    "# Signing message"
   ]
  },
  {
   "cell_type": "code",
   "execution_count": 12,
   "metadata": {},
   "outputs": [
    {
     "data": {
      "text/plain": [
       "101893063078946084361222031433431727332433298941291262609301385231230849887501602695651593699115401822772679999264768561776915895780974890085507631168738687246685186460382583771559825419547883383263433072456234696201671569533285352306273790709784650304751985877858610089487824527668019838803270711066964220156"
      ]
     },
     "execution_count": 12,
     "metadata": {},
     "output_type": "execute_result"
    }
   ],
   "source": [
    "signature = pow(hash, key.d, key.n)\n",
    "signature"
   ]
  },
  {
   "cell_type": "markdown",
   "metadata": {},
   "source": [
    "# Hash from signature"
   ]
  },
  {
   "cell_type": "code",
   "execution_count": 14,
   "metadata": {},
   "outputs": [
    {
     "data": {
      "text/plain": [
       "True"
      ]
     },
     "execution_count": 14,
     "metadata": {},
     "output_type": "execute_result"
    }
   ],
   "source": [
    "hashFromSignature = pow(signature, key.e, key.n)\n",
    "hash == hashFromSignature"
   ]
  },
  {
   "cell_type": "markdown",
   "metadata": {},
   "source": [
    "# Tamper Message"
   ]
  },
  {
   "cell_type": "code",
   "execution_count": 15,
   "metadata": {},
   "outputs": [
    {
     "data": {
      "text/plain": [
       "1102289327467366970176387899546548941904453948140295428652957301374265804373704124332012381326134364236765298955039026399863973433709816405989579698150548"
      ]
     },
     "execution_count": 15,
     "metadata": {},
     "output_type": "execute_result"
    }
   ],
   "source": [
    "msg = b'A simple message for signature (tampered)'\n",
    "hash = int.from_bytes(sha512(msg).digest(), byteorder='big')\n",
    "hash"
   ]
  },
  {
   "cell_type": "code",
   "execution_count": 16,
   "metadata": {},
   "outputs": [
    {
     "data": {
      "text/plain": [
       "False"
      ]
     },
     "execution_count": 16,
     "metadata": {},
     "output_type": "execute_result"
    }
   ],
   "source": [
    "hash == hashFromSignature"
   ]
  },
  {
   "cell_type": "code",
   "execution_count": null,
   "metadata": {},
   "outputs": [],
   "source": []
  }
 ],
 "metadata": {
  "kernelspec": {
   "display_name": "Python 3",
   "language": "python",
   "name": "python3"
  },
  "language_info": {
   "codemirror_mode": {
    "name": "ipython",
    "version": 3
   },
   "file_extension": ".py",
   "mimetype": "text/x-python",
   "name": "python",
   "nbconvert_exporter": "python",
   "pygments_lexer": "ipython3",
   "version": "3.8.5"
  }
 },
 "nbformat": 4,
 "nbformat_minor": 4
}
